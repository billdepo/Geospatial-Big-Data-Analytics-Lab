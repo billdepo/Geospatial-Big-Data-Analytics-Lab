{
 "cells": [
  {
   "cell_type": "markdown",
   "metadata": {
    "collapsed": true,
    "pycharm": {
     "name": "#%% md\n"
    }
   },
   "source": [
    "# Geospatial Big Data Analytics\n",
    "\n",
    "DSML NTUA MSc\n",
    "Vasileios Depastas\n",
    "AM: 03400131"
   ]
  },
  {
   "cell_type": "markdown",
   "metadata": {
    "pycharm": {
     "name": "#%% md\n"
    }
   },
   "source": [
    "## Question 1\n",
    "Αφού επιλέξετε περιοχή μελέτης, αναζητήστε δεδομένα raster, vector και δεδομένα χρονοσειρών για την συγκεκριμένη περιοχή. Χρησιμοποιήστε τουλάχιστον 2 διαφορετικές πηγές, καθώς και την υπηρεσία WFS.\n",
    "[ενδεικτικές βιβλιοθήκες Python]: rasterio (για τα δεδομένα raster, εικόνες, κοκ), geopandas (δεδομένα vector, σημεία, πολύγωνα, κοκ και WFS υπηρεσία μεταμόρφωσης), pandas (εισαγωγή flat αρχείων)\n",
    "[ενδεικτικά βήματα]:\n",
    "✓ Πραγματοποιήστε λήψη διαχρονικών δεδομένων Sentinel-2 που απεικονίζουν την ευρύτερη περιοχή της Καστοριάς (https://pithos.okeanos.grnet.gr/public/fBSNLJeNxerluMj2MVDqF). Παρατηρήστε το συνοδευτικό PDF της εικόνας και τις αντιστοιχίες καναλιών και ημερομηνιών.\n",
    "✓ Δημιουργήστε ένα vector αρχείο (π.χ GeoJSON, ESRI Shapefile) μέσω QGIS ή και στο geojson.io (https://geojson.io/) με την περιοχή μελέτης (πολύγωνο) πάνω στα δεδομένα Sentinel-2 της Καστοριάς και πραγματοποιήστε εισαγωγή του στην Python.\n",
    "✓ Κάντε λήψη χρονοσειράς μετεωρολογικών δεδομένων από το portal της NASA (https://power.larc.nasa.gov/data-access-viewer/) για ένα σημείο εντός της περιοχής μελέτης και εισάγετε τα δεδομένα στην Python.\n",
    "✓ Αναζητήστε τη WFS υπηρεσία για το Corine Land Cover 2018 και εισάγετε τα δεδομένα σας."
   ]
  },
  {
   "cell_type": "markdown",
   "source": [
    "## Question 2"
   ],
   "metadata": {
    "collapsed": false,
    "pycharm": {
     "name": "#%% md\n"
    }
   }
  },
  {
   "cell_type": "markdown",
   "source": [
    "Sentinel 2 data loading from the broader Katoria region in Greece (<a href=\"https://pithos.okeanos.grnet.gr/public/fBSNLJeNxerluMj2MVDqF\">Link to download data</a>). According to the pdf accompanying the data, there are two `.tif` large files:\n",
    "- `Kastoria.tif`: 24 raster images spanning from 25-01-2016 until 30-12-2016 (corresponding doy range: 25 - 365) with 10 bands per image. This results in a spectro-temporal cube of dimension 240 x 2017 x 2281.\n",
    "- `Kast_RefData_26Classes.tif`: image with 26 class codes for different land usages classification."
   ],
   "metadata": {
    "collapsed": false,
    "pycharm": {
     "name": "#%% md\n"
    }
   }
  },
  {
   "cell_type": "code",
   "execution_count": 1,
   "metadata": {},
   "outputs": [],
   "source": [
    "# imports\n",
    "import os\n",
    "import rasterio"
   ]
  },
  {
   "cell_type": "code",
   "execution_count": 2,
   "outputs": [],
   "source": [
    "# constants\n",
    "KASTORIA_DATA_PATH = '/Kastoria/Kastoria.tif/'"
   ],
   "metadata": {
    "collapsed": false,
    "pycharm": {
     "name": "#%%\n"
    }
   }
  },
  {
   "cell_type": "code",
   "execution_count": 7,
   "outputs": [
    {
     "name": "stdout",
     "output_type": "stream",
     "text": [
      "The Kastoria dataset: <open DatasetReader name='C:/Users/User/Downloads/DSML MsC/2nd semester/Γεωχωρικα/Geospatial_Lab Exercises/Lab02/Kastoria/Kastoria.tif' mode='r'>\n",
      "Dataset shape: (240, 2017, 2281)\n",
      "The data types of the bands are: {'float32'}\n",
      "There are 0 no data values in the dataset\n"
     ]
    }
   ],
   "source": [
    "full_kastoria_tiff_path = os.getcwd() + KASTORIA_DATA_PATH # combine current working directory with KASTORIA_DATA_PATH\n",
    "\n",
    "# open Kastoria.tif dataset of 240 images (24 images with 10 bands each = 240)\n",
    "with rasterio.open(fp=full_kastoria_tiff_path, mode='r') as kastoria_tif:\n",
    "    print(f'The Kastoria dataset: {kastoria_tif}')\n",
    "    print(f'Dataset shape: {kastoria_tif.read().shape}')\n",
    "\n",
    "    bands_dtypes = set()\n",
    "    nodatavalues = 0\n",
    "    for i, dtype, nodataval in zip(kastoria_tif.indexes, kastoria_tif.dtypes, kastoria_tif.nodatavals):\n",
    "        bands_dtypes.add(dtype) # add dtype element if not already in set\n",
    "        if not nodataval: nodataval = 0\n",
    "        nodatavalues += nodataval # sum of number of no data values\n",
    "    print(f'The data types of the bands are: {bands_dtypes}')\n",
    "    print(f'There are {nodatavalues} no data values in the dataset')"
   ],
   "metadata": {
    "collapsed": false,
    "pycharm": {
     "name": "#%%\n"
    }
   }
  },
  {
   "cell_type": "code",
   "execution_count": 8,
   "outputs": [],
   "source": [
    "with rasterio.open(fp=full_kastoria_tiff_path, mode='r') as kastoria_tif:\n",
    "    img1 = kastoria_tif.read(240) # get the last image of the dataset"
   ],
   "metadata": {
    "collapsed": false,
    "pycharm": {
     "name": "#%%\n"
    }
   }
  },
  {
   "cell_type": "code",
   "execution_count": 9,
   "outputs": [
    {
     "data": {
      "text/plain": "array([[0.5021895 , 0.49184346, 0.49501204, ..., 0.33218345, 0.3101828 ,\n        0.24442597],\n       [0.59707993, 0.5894163 , 0.53658056, ..., 0.3066161 , 0.2654999 ,\n        0.25338012],\n       [0.54432225, 0.5634399 , 0.47678217, ..., 0.23632368, 0.27445713,\n        0.38671494],\n       ...,\n       [0.62269396, 0.6333919 , 0.62778646, ..., 0.63925993, 0.64900243,\n        0.70858073],\n       [0.6396357 , 0.6465692 , 0.6525834 , ..., 0.6252223 , 0.6468441 ,\n        0.6601583 ],\n       [0.6325571 , 0.6174326 , 0.6066973 , ..., 0.6199472 , 0.6577537 ,\n        0.6858217 ]], dtype=float32)"
     },
     "execution_count": 9,
     "metadata": {},
     "output_type": "execute_result"
    }
   ],
   "source": [
    "img1"
   ],
   "metadata": {
    "collapsed": false,
    "pycharm": {
     "name": "#%%\n"
    }
   }
  },
  {
   "cell_type": "code",
   "execution_count": null,
   "outputs": [],
   "source": [],
   "metadata": {
    "collapsed": false,
    "pycharm": {
     "name": "#%%\n"
    }
   }
  },
  {
   "cell_type": "code",
   "execution_count": null,
   "outputs": [],
   "source": [],
   "metadata": {
    "collapsed": false,
    "pycharm": {
     "name": "#%%\n"
    }
   }
  },
  {
   "cell_type": "markdown",
   "metadata": {
    "pycharm": {
     "name": "#%% md\n"
    }
   },
   "source": [
    "## Question 3\n",
    "Υλοποιήστε και εξασκηθείτε με διάφορα χωρικά ερωτήματα και πράξεις με την βοήθεια της βιβλιοθήκης Geopandas στα vector δεδομένα σας. Δημιουργήστε στατικούς χάρτες με αυτά. Παρουσιάστε γραφήματα της χρονοσειράς δεδομένων.\n",
    "[ενδεικτικές βιβλιοθήκες Python]: geopandas, pandas, matplotlib\n",
    "[ενδεικτικά βήματα ερωτήματος]:\n",
    "✓ Κατεβάστε vector δεδομένα από το https://geodata.gov.gr/, όπως διοικητικά όρια νομών, σιδηροδρομικό δίκτυο, τοποθεσίες νοσοκομείων κλπ.\n",
    "✓ Χρησιμοποιήστε την βιβλιοθήκη geopandas για υλοποίηση χωρικών ερωτημάτων (όπως within, intersect, buffer, spatial join)\n",
    "✓ Πραγματοποιήστε εξαγωγή από τη WFS υπηρεσία για το Corine Land Cover 2018 και τα δεδομένα που αφορούν την περιοχή μελέτης κλπ.\n",
    "✓ Στατικοί χάρτες 1) Corine Land Cover στη περιοχή μελέτης, 2) του πολυγώνου της περιοχής μελέτης καθώς και 3) του σημείου των μετεωρολογικών δεδομένων κλπ.\n",
    "✓ Γραφήματα με την εξέλιξη μετεωρολογικών μεταβλητών (πχ θερμοκρασία, υγρασία, κα) στον χρόνο."
   ]
  },
  {
   "cell_type": "code",
   "execution_count": null,
   "metadata": {
    "pycharm": {
     "name": "#%%\n"
    }
   },
   "outputs": [],
   "source": [
    "#import pandas, matplotlib, geopandas"
   ]
  },
  {
   "cell_type": "code",
   "execution_count": null,
   "metadata": {
    "pycharm": {
     "name": "#%%\n"
    }
   },
   "outputs": [],
   "source": []
  }
 ],
 "metadata": {
  "kernelspec": {
   "display_name": "Python 3 (ipykernel)",
   "language": "python",
   "name": "python3"
  },
  "language_info": {
   "codemirror_mode": {
    "name": "ipython",
    "version": 3
   },
   "file_extension": ".py",
   "mimetype": "text/x-python",
   "name": "python",
   "nbconvert_exporter": "python",
   "pygments_lexer": "ipython3",
   "version": "3.10.1"
  }
 },
 "nbformat": 4,
 "nbformat_minor": 1
}